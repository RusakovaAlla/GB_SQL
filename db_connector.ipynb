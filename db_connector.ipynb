{
 "cells": [
  {
   "cell_type": "code",
   "execution_count": 33,
   "metadata": {},
   "outputs": [],
   "source": [
    "from mysql.connector import Error, MySQLConnection\n",
    "from configparser import ConfigParser "
   ]
  },
  {
   "cell_type": "code",
   "execution_count": 32,
   "metadata": {},
   "outputs": [],
   "source": [
    "def connection_config(filename='config.ini', section='mysql'):\n",
    "    \"\"\" читаем файл конфигурации и возвращаем указанные в нем параметры в качестве словаря\n",
    "    \"\"\"    \n",
    "    parser = ConfigParser()\n",
    "    parser.read(filename)\n",
    "    db = {}\n",
    "    if parser.has_section(section):\n",
    "        items = parser.items(section)\n",
    "        for item in items:\n",
    "            db[item[0]] = item[1]\n",
    "    else:\n",
    "        raise Exception(f'{section} not found in the {filename} file')\n",
    " \n",
    "    return db"
   ]
  },
  {
   "cell_type": "code",
   "execution_count": 42,
   "metadata": {},
   "outputs": [],
   "source": [
    "def connect_db():\n",
    "    \"\"\"установка соединения с БД\"\"\"\n",
    "\n",
    "    db_config = connection_config()\n",
    "\n",
    "    try:\n",
    "        print('Connecting to MySQL database...')\n",
    "        conn = MySQLConnection(**db_config)\n",
    "        with conn:\n",
    "            if conn.is_connected():\n",
    "                print('connection established.')\n",
    "            else:\n",
    "                print('connection failed.')\n",
    "    except Error as error:\n",
    "        print(error)\n",
    "    finally:       \n",
    "        print('Connection closed.')"
   ]
  },
  {
   "cell_type": "code",
   "execution_count": 43,
   "metadata": {},
   "outputs": [
    {
     "name": "stdout",
     "output_type": "stream",
     "text": [
      "Connecting to MySQL database...\n",
      "connection established.\n",
      "Connection closed.\n"
     ]
    }
   ],
   "source": [
    "connect_db() #проверка"
   ]
  },
  {
   "cell_type": "markdown",
   "metadata": {},
   "source": [
    "### Create"
   ]
  },
  {
   "cell_type": "code",
   "execution_count": 67,
   "metadata": {},
   "outputs": [],
   "source": [
    "def create_smth(query):\n",
    "    try:\n",
    "        dbconfig = connection_config()\n",
    "        conn = MySQLConnection(**dbconfig)\n",
    "        with conn:\n",
    "            cursor = conn.cursor()\n",
    "            cursor.execute(query)\n",
    "    except Error as e:\n",
    "        print(e)\n",
    "        \n",
    "    \n",
    "def insert_data(query, inputs):\n",
    "    try:\n",
    "        db_config = connection_config()\n",
    "        conn = MySQLConnection(**db_config)\n",
    "        with conn:\n",
    "            cursor = conn.cursor()\n",
    "            if len(inputs)<1:\n",
    "                cursor.execute(query, inputs)\n",
    "            else:\n",
    "                cursor.executemany(query, inputs)            \n",
    "            conn.commit()\n",
    "    except Error as error:\n",
    "        print(error)\n",
    "\n",
    "\n",
    "    \n",
    "query = \"\"\"CREATE TABLE IF NOT EXISTS test_connector \n",
    "(\n",
    "id INT PRIMARY KEY AUTO_INCREMENT,\n",
    "test_num VARCHAR(45),\n",
    "result BOOLEAN NOT NULL DEFAULT 1\n",
    ");\"\"\"\n",
    "\n",
    "query2 = \"\"\"INSERT INTO test_connector(test_num,result) VALUES (%s,%s);\"\"\"\n",
    "inputs = [(1,0),(2,0),(3,1)]\n",
    "\n",
    "if __name__ == '__main__':\n",
    "    main()"
   ]
  },
  {
   "cell_type": "markdown",
   "metadata": {},
   "source": [
    "### Read"
   ]
  },
  {
   "cell_type": "code",
   "execution_count": 68,
   "metadata": {},
   "outputs": [
    {
     "name": "stdout",
     "output_type": "stream",
     "text": [
      "(9, '1', 0)\n",
      "(10, '1', 0)\n",
      "(11, '2', 0)\n",
      "(12, '3', 1)\n",
      "(13, '1', 0)\n",
      "(14, '2', 0)\n",
      "(15, '3', 1)\n",
      "(16, '1', 0)\n",
      "(17, '2', 0)\n",
      "(18, '3', 1)\n"
     ]
    }
   ],
   "source": [
    "def iter_row(cursor, size=10):\n",
    "    while True:\n",
    "        rows = cursor.fetchmany(size)\n",
    "        if not rows:\n",
    "            break\n",
    "        for row in rows:\n",
    "            yield row\n",
    "\n",
    "def read_db(query):\n",
    "    try:\n",
    "        dbconfig = connection_config()\n",
    "        conn = MySQLConnection(**dbconfig)\n",
    "        with conn:\n",
    "            cursor = conn.cursor()\n",
    "            cursor.execute(query)\n",
    "            for row in iter_row(cursor, 10):\n",
    "                print(row)\n",
    "\n",
    "    except Error as e:\n",
    "        print(e)\n",
    "\n",
    "query3 = \"\"\"\n",
    "SELECT * from test_connector\n",
    "\"\"\"\n",
    "\n",
    "read_db(query3)"
   ]
  },
  {
   "cell_type": "markdown",
   "metadata": {},
   "source": [
    "### Update"
   ]
  },
  {
   "cell_type": "code",
   "execution_count": 82,
   "metadata": {},
   "outputs": [],
   "source": [
    "def upd_alt_del_db(query):    \n",
    "    db_config = connection_config()\n",
    "    try:\n",
    "        conn = MySQLConnection(**db_config)\n",
    "        with conn:\n",
    "            cursor = conn.cursor()\n",
    "            cursor.execute(query)\n",
    "            conn.commit()\n",
    "\n",
    "    except Error as error:\n",
    "        print(error)\n",
    "\n",
    "query4 = \"\"\"ALTER TABLE test_connector\n",
    "DROP COLUMN test_num;\n",
    "\"\"\"\n",
    "query5 = \"\"\"ALTER TABLE test_connector\n",
    "ADD COLUMN test_res VARCHAR(45) NOT NULL;\n",
    "\"\"\"\n",
    "\n",
    "query6 = \"\"\"UPDATE test_connector\n",
    "SET test_res = IF (result = 1, 'ok', 'not ok');\n",
    "\"\"\""
   ]
  },
  {
   "cell_type": "markdown",
   "metadata": {},
   "source": [
    "### Delete"
   ]
  },
  {
   "cell_type": "code",
   "execution_count": 83,
   "metadata": {},
   "outputs": [],
   "source": [
    "#удалять данные можем с помощью тех же действий, что и update \n",
    "query7 = \"\"\"DELETE FROM test_connector\n",
    "where test_res = 'not ok'\n",
    "\"\"\"\n",
    "upd_alt_del_db(query7)"
   ]
  },
  {
   "cell_type": "code",
   "execution_count": null,
   "metadata": {},
   "outputs": [],
   "source": [
    "def main():\n",
    "    create_smth(query)\n",
    "    insert_data(query2, inputs)\n",
    "    read_db(query3)\n",
    "    upd_alt_del_db(query4)\n",
    "    upd_alt_del_db(query5)\n",
    "    upd_alt_del_db(query6)\n",
    "    upd_alt_del_db(query7)"
   ]
  }
 ],
 "metadata": {
  "kernelspec": {
   "display_name": "Python 3",
   "language": "python",
   "name": "python3"
  },
  "language_info": {
   "codemirror_mode": {
    "name": "ipython",
    "version": 3
   },
   "file_extension": ".py",
   "mimetype": "text/x-python",
   "name": "python",
   "nbconvert_exporter": "python",
   "pygments_lexer": "ipython3",
   "version": "3.8.5"
  }
 },
 "nbformat": 4,
 "nbformat_minor": 4
}
